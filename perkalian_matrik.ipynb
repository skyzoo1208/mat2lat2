{
  "nbformat": 4,
  "nbformat_minor": 0,
  "metadata": {
    "colab": {
      "provenance": [],
      "authorship_tag": "ABX9TyPBgVet/O2gfsPr9ChzoOJD",
      "include_colab_link": true
    },
    "kernelspec": {
      "name": "python3",
      "display_name": "Python 3"
    },
    "language_info": {
      "name": "python"
    }
  },
  "cells": [
    {
      "cell_type": "markdown",
      "metadata": {
        "id": "view-in-github",
        "colab_type": "text"
      },
      "source": [
        "<a href=\"https://colab.research.google.com/github/skyzoo1208/mat2lat2/blob/main/perkalian_matrik.ipynb\" target=\"_parent\"><img src=\"https://colab.research.google.com/assets/colab-badge.svg\" alt=\"Open In Colab\"/></a>"
      ]
    },
    {
      "cell_type": "code",
      "execution_count": 2,
      "metadata": {
        "colab": {
          "base_uri": "https://localhost:8080/"
        },
        "id": "qo-fGfMhGb62",
        "outputId": "3fa67bf3-582f-4863-cef2-2b3e9f9eabaf"
      },
      "outputs": [
        {
          "output_type": "stream",
          "name": "stdout",
          "text": [
            "8 3 2 \n",
            "9 4 1 \n",
            "2 1 0 \n"
          ]
        }
      ],
      "source": [
        "a=[[2,3],\n",
        "  [1,4],\n",
        "  [0,1]]\n",
        "b=[[1,0,1],\n",
        "  [2,1,0]]\n",
        "c=[[0,0,0],\n",
        "  [0,0,0],\n",
        "  [0,0,0]]\n",
        "for i in range(len(a)):\n",
        "  for j in range(len(b[0])):\n",
        "    for k in range(len(b)):\n",
        "      c[i][j]+=a[i][k]*b[k][j]\n",
        "#--Tampilkan Matrik --\n",
        "for i in c:\n",
        "  for j in i:\n",
        "    print(j,end=' ')\n",
        "  print()\n",
        ""
      ]
    }
  ]
}