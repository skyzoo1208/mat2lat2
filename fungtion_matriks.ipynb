{
  "nbformat": 4,
  "nbformat_minor": 0,
  "metadata": {
    "colab": {
      "provenance": [],
      "authorship_tag": "ABX9TyNQG+M3dTSOyw7ly39Nh5Dl",
      "include_colab_link": true
    },
    "kernelspec": {
      "name": "python3",
      "display_name": "Python 3"
    },
    "language_info": {
      "name": "python"
    }
  },
  "cells": [
    {
      "cell_type": "markdown",
      "metadata": {
        "id": "view-in-github",
        "colab_type": "text"
      },
      "source": [
        "<a href=\"https://colab.research.google.com/github/skyzoo1208/mat2lat2/blob/main/fungtion_matriks.ipynb\" target=\"_parent\"><img src=\"https://colab.research.google.com/assets/colab-badge.svg\" alt=\"Open In Colab\"/></a>"
      ]
    },
    {
      "cell_type": "code",
      "execution_count": 8,
      "metadata": {
        "colab": {
          "base_uri": "https://localhost:8080/"
        },
        "id": "MPks9u5MJkMz",
        "outputId": "37c4ab35-ce6c-4b70-a045-a9b888569a51"
      },
      "outputs": [
        {
          "output_type": "stream",
          "name": "stdout",
          "text": [
            "8 3 2 \n",
            "9 4 1 \n",
            "2 1 0 \n",
            "\n"
          ]
        }
      ],
      "source": [
        "#-- Perkalian Matrik --\n",
        "def kali(matrikA,matrikB):\n",
        "  r=[]\n",
        "  m=[]\n",
        "  for i in range(len(matrikA)):\n",
        "    for j in range(len(matrikB[0])):\n",
        "      c=0\n",
        "      for k in range(len(matrikB)):\n",
        "        c=c+matrikA[i][k]*matrikB[k][j]\n",
        "      r.append(c)\n",
        "    m.append(r)\n",
        "    r=[]\n",
        "  return m\n",
        "\n",
        "#-- Menampilkan Matrik --\n",
        "def tampil(matrik):\n",
        "  for i in matrik:\n",
        "    for j in i:\n",
        "      print(j,end=' ')\n",
        "    print()\n",
        "\n",
        "a=[[2,3],[1,4],[0,1]]\n",
        "b=[[1,0,1],[2,1,0]]\n",
        "c=kali(a,b)\n",
        "tampil(c)\n",
        "print()"
      ]
    }
  ]
}